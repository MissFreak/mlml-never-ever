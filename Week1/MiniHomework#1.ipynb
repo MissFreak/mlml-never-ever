{
 "cells": [
  {
   "cell_type": "markdown",
   "metadata": {},
   "source": [
    "## 机器学习中的优化  "
   ]
  },
  {
   "cell_type": "markdown",
   "metadata": {},
   "source": [
    "### 问题1\n",
    "假设我们有训练数据$D=\\{(\\mathbf{x}_1,y_1),...,(\\mathbf{x}_n,y_n)\\}$, 其中$(\\mathbf{x}_i,y_i)$为每一个样本，而且$\\mathbf{x}_i$是样本的特征并且$\\mathbf{x}_i\\in \\mathcal{R}^D$, $y_i$代表样本数据的标签（label）, 取值为$0$或者$1$. 在逻辑回归中，模型的参数为$(\\mathbf{w},b)$。对于向量，我们一般用粗体来表达。 为了后续推导的方便，可以把b融入到参数w中。 这是参数$w$就变成 $w=(w_0, w_1, .., w_D)$，也就是前面多出了一个项$w_0$, 可以看作是b，这时候每一个$x_i$也需要稍作改变可以写成 $x_i = [1, x_i]$，前面加了一个1。稍做思考应该能看出为什么可以这么写。\n",
    "\n",
    "请回答以下问题。请用Markdown自带的Latex来编写。\n",
    "\n",
    "\n",
    "\n",
    "\n",
    "\n"
   ]
  },
  {
   "cell_type": "markdown",
   "metadata": {},
   "source": [
    "$ \\mathbf{w} \\cdot \\mathbf{x} + b = y $\n",
    "can be transformed into: \n",
    "initially, both $\\mathbf{w}$ and $\\mathbf{x}$ are n-d vector, no we add "
   ]
  },
  {
   "cell_type": "markdown",
   "metadata": {},
   "source": [
    "####  (a) ```编写逻辑回归的目标函数```\n",
    "请写出目标函数（objective function）, 也就是我们需要\"最小化\"的目标（也称之为损失函数或者loss function)，不需要考虑正则。 把目标函数表示成最小化的形态，另外把$\\prod_{}^{}$转换成$\\log \\sum_{}^{}$\n"
   ]
  },
  {
   "cell_type": "markdown",
   "metadata": {},
   "source": [
    "\n",
    "$ L(w)=\\sum_{i=1}^{n}-y_{i} \\log \\left(p\\left(\\mathbf{x_{i}} ; \\mathbf{w}\\right)\\right)-\\left(1-y_{i}\\right) \\log \\left(1-p\\left(\\mathbf{x_{i}} ; \\mathbf{w}\\right)\\right)$\n",
    "\n",
    "\n",
    "where $ p(c) = \\frac{1}{1+e^{-\\mathbf{w}^{T}\\mathbf{x} }}$"
   ]
  },
  {
   "cell_type": "markdown",
   "metadata": {},
   "source": [
    "####  (b) ```求解对w的一阶导数```\n",
    "为了做梯度下降法，我们需要对参数$w$求导，请把$L(w)$对$w$的梯度计算一下："
   ]
  },
  {
   "cell_type": "markdown",
   "metadata": {},
   "source": [
    "$$\n",
    "\\frac{d f}{d \\mathbf{X}}=\\left(\\frac{\\partial f}{\\partial x_{1}}, \\frac{\\partial f}{\\partial x_{2}}, \\cdots, \\frac{\\partial f}{\\partial x_{n}}\\right)^{T}\n",
    "$$\n",
    "\n",
    "$\\frac{\\partial L(\\mathbf{w})}{\\partial w_j}= \\frac{1}{m}\\sum_{i=i}^{m}[p(\\mathbf{x}^i;\\mathbf{w}) - y^i]x_j^i $\n",
    "\n",
    "\n",
    "\n",
    "$\\frac{\\partial L(\\mathbf{w})}{\\partial \\mathbf{w}}=\\left(\\frac{\\partial L(\\mathbf{w})}{\\partial w_1}, \\frac{\\partial L(\\mathbf{w})}{\\partial w_2}, \\cdots, \\frac{\\partial L(\\mathbf{w})}{\\partial w_n}\\right)^{T}$"
   ]
  },
  {
   "cell_type": "markdown",
   "metadata": {},
   "source": [
    "####  (c) ```求解对w的二阶导数```\n",
    "在上面结果的基础上对$w$求解二阶导数，也就是再求一次导数。 这个过程需要回忆一下线性代数的部分 ^^。 参考： matrix cookbook: https://www.math.uwaterloo.ca/~hwolkowi/matrixcookbook.pdf, 还有 Hessian Matrix。 "
   ]
  },
  {
   "cell_type": "markdown",
   "metadata": {},
   "source": [
    "$\\frac{\\partial^2 L(w)}{\\partial^2 w}= H$\n",
    "\n",
    "$H_{ab} = \\frac{\\partial^2 L(w)}{\\partial w_a \\partial w_b}= \\frac{1}{m} \\sum_{i=1}^{m} p(\\mathbf{x}^i;\\mathbf{w})(1-p(\\mathbf{x}^i;\\mathbf{w})) x_a^i x_b^i   $ \n",
    "\n",
    "which can be expressed as: \n",
    "$\n",
    "H = XDX^T\n",
    "$\n",
    "where \n",
    "X: matrix $d \\times  m$, D: diagonal matrix, where $D_{ii} =  \\sigma\\left(z_{i}\\right)\\left(1-\\sigma\\left(z_{i}\\right)\\right)\n",
    "$\n"
   ]
  },
  {
   "cell_type": "markdown",
   "metadata": {},
   "source": [
    "#### (d) ```证明逻辑回归目标函数是凸函数```\n",
    "试着证明逻辑回归函数是凸函数。假设一个函数是凸函数，我们则可以得出局部最优解即为全局最优解，所以假设我们通过随机梯度下降法等手段找到最优解时我们就可以确认这个解就是全局最优解。证明凸函数的方法有很多种，在这里我们介绍一种方法，就是基于二次求导大于等于0。比如给定一个函数$f(x)=x^2-3x+3$，做两次\n",
    "求导之后即可以得出$f''(x)=2 > 0$，所以这个函数就是凸函数。类似的，这种理论也应用于多元变量中的函数上。在多元函数上，只要证明二阶导数是posititive semidefinite即可以。 问题（c）的结果是一个矩阵。 为了证明这个矩阵（假设为H)为Positive Semidefinite，需要证明对于任意一个非零向量$v\\in \\mathcal{R}$, 需要得出$v^{T}Hv >=0$\n",
    "请写出详细的推导过程："
   ]
  },
  {
   "cell_type": "markdown",
   "metadata": {},
   "source": [
    "// TODO 请写下推导过程\n",
    "\n",
    "\n",
    "As we have calculated that $H = XDX^T$\n",
    "So for any $\\mathbf{t} \\in R^d $, we have:\n",
    "$$ \\mathbf{t} H \\mathbf{t}^T = \\mathbf{t} XDX^T \\mathbf{t}^T  $$\n",
    "$$ = \\mathbf{t} X D^{ \\frac{1}{2} }D^{ \\frac{1}{2} }  (\\mathbf{t} X)^T $$\n",
    "$$ = \\mathbf{t}D^{ \\frac{1}{2} } X   (\\mathbf{t}D^{ \\frac{1}{2} } X)^T $$\n",
    "$$ = ||\\mathbf{t}D^{ \\frac{1}{2} } X ||^2_2  >= 0$$\n",
    "\n"
   ]
  },
  {
   "cell_type": "markdown",
   "metadata": {},
   "source": [
    "### 问题2\n",
    "证明p-norm是凸函数， p-norm的定义为：\n",
    "$||x||_p=(\\sum_{i=1}^{n}|x_i|^p)^{1/p}$\n",
    "\n",
    "hint: Minkowski’s Inequality"
   ]
  },
  {
   "cell_type": "markdown",
   "metadata": {},
   "source": [
    "PROOF since \\(p \\geq 1,\\) the function \\(x \\mapsto|x|^{p}\\) is convex. It follows that\n",
    "$$\n",
    "\\begin{aligned}\\|(1-\\lambda) f+\\lambda g\\|_{p}^{p} &=\\int_{X}|(1-\\lambda) f+\\lambda g|^{p} d \\mu \\\\ & \\leq \\int_{X}\\left((1-\\lambda)|f|^{p}+\\lambda|g|^{p}\\right) d \\mu=(1-\\lambda)\\|f\\|_{p}^{p}+\\lambda\\|g\\|_{p}^{p} \\end{aligned}\n",
    "$$\n",
    "\n",
    "for any measurable functions $f$ and $g$ and any $\\lambda \\in[0,1]$. In particular, this proves\n",
    "that $||(1-\\lambda) f+\\lambda g||_{p} \\leq 1$ whenever \n",
    "$ ||f||_p = ||g||_p=1 $\n",
    "From this Minkowski's inequality follows. First, observe that if $||f||_p=0$, then\n",
    "f=0 almost everywhere, so Minkowski's inequality follows in this case. A similar\n",
    "argument holds if $||g_{p}||=0$, so suppose that $||g||_p>0$ and $||g||_p>0$ . Let $\\hat{f}=f /\\|f\\|_{p}$\n",
    "and $\\hat{g}=g /\\|g\\|_{p}$, and note that $||\\hat{f}||_{p}=||\\hat{g}||_{p}=1$ . Then\n",
    "$$\\frac{\\|f+g\\|_{p}}{\\|f\\|_{p}+\\|g\\|_{p}}=\\left\\|\\frac{\\|f\\|_{p}}{\\|f\\|_{p}+\\|g\\|_{p}} \\hat{f}+\\frac{\\|g\\|_{p}}{\\|f\\|_{p}+\\|g\\|_{p}} \\hat{g}\\right\\|_{p} \\leq 1$$"
   ]
  },
  {
   "cell_type": "markdown",
   "metadata": {},
   "source": [
    "### 问题3\n",
    "在课堂里我们讲过Transportation problem. 重新描述问题： 有两个城市北京和上海，分别拥有300件衣服和500件衣服，另外有三个城市分别是1，2，3分别需要200，300，250件衣服。现在需要把衣服从北京和上海运送到城市1，2，3。 我们假定每运输一件衣服会产生一些代价，比如：\n",
    "- 北京 -> 1:  5\n",
    "- 北京 -> 2:  6\n",
    "- 北京 -> 3:  4\n",
    "- 上海 -> 1:  6\n",
    "- 上海 -> 2:  3\n",
    "- 上海 -> 3:  7\n",
    "\n",
    "最后的值是单位cost. \n",
    "\n",
    "问题：我们希望最小化成本。 "
   ]
  },
  {
   "cell_type": "markdown",
   "metadata": {},
   "source": [
    "```(a)``` 请写出linear programming formulation。 利用标准的写法(Stanford form)，建议使用矩阵、向量的表示法。 \n"
   ]
  },
  {
   "cell_type": "markdown",
   "metadata": {},
   "source": [
    "// your formulation\n",
    "\n",
    "$\\mathbf{b}_{1}$: Beijing -> 1, $\\mathbf{b}_{3}$: Beijing -> 3, $\\mathbf{s}_{1}$: Shanghai -> 1, $\\mathbf{s}_{3}$: Shanghai -> 3, \n",
    "\n",
    "Min $$\\mathbf{w}_b^T \\mathbf{b} +\\mathbf{w}_s^T \\mathbf{s}   $$, where $\\mathbf{w}_b = [5,6,4]$,$\\mathbf{w}_s = [6,3,7]$\n",
    "\n",
    "s.t. $$ \\mathbf{b}_1 +\\mathbf{b}_2+\\mathbf{b}_3 \\leq 300  $$\n",
    "$$ \\mathbf{s}_1 +\\mathbf{s}_2+\\mathbf{s}_3 \\leq 500  $$\n",
    "$$\\mathbf{b}_1 +\\mathbf{s}_1 \\geq 200 $$\n",
    "$$\\mathbf{b}_2 +\\mathbf{s}_2 \\geq 300 $$\n",
    "$$\\mathbf{b}_3 +\\mathbf{s}_3 \\geq 250 $$\n",
    "\n",
    " \n",
    "\n"
   ]
  },
  {
   "cell_type": "markdown",
   "metadata": {},
   "source": [
    "```(b)``` 利用lp solver求解最优解。 参考：\n",
    "https://docs.scipy.org/doc/scipy/reference/generated/scipy.optimize.linprog.html\n",
    "    或者： http://cvxopt.org/"
   ]
  },
  {
   "cell_type": "code",
   "execution_count": null,
   "metadata": {},
   "outputs": [],
   "source": [
    "# your implementation\n",
    "\n",
    "\n",
    "\n"
   ]
  },
  {
   "cell_type": "markdown",
   "metadata": {},
   "source": [
    "```(c)```: 试着把上述LP转化成Dual formulation，请写出dual form. "
   ]
  },
  {
   "cell_type": "markdown",
   "metadata": {},
   "source": [
    "// your formulation"
   ]
  },
  {
   "cell_type": "code",
   "execution_count": 34,
   "metadata": {},
   "outputs": [],
   "source": [
    "from cvxopt import matrix, solvers\n",
    "A = matrix([ [1.0, 0.0, -1.0, 0.0, 0.0], [1.0, 0.0,0.0, -1.0, 0.0],[1.0, 0.0,0.0, 0.0, -1.0],[0.0, 1.0,-1.0, 0.0, 0.0],[0.0, 1.0,0.0, -1.0, 0.0],[0.0, 1.0,0.0, 0.0, -1.0] ])\n",
    "b = matrix([300.0,500.0,-200.0,-300.0,-250.0])\n",
    "c = matrix([1.0,1.0,1.0,1.0,1.0,1.0])\n",
    "# sol=solvers.lp(c,A,b)"
   ]
  },
  {
   "cell_type": "code",
   "execution_count": 35,
   "metadata": {},
   "outputs": [
    {
     "name": "stdout",
     "output_type": "stream",
     "text": [
      "(5, 6)\n",
      "(5, 1)\n",
      "(6, 1)\n"
     ]
    }
   ],
   "source": [
    "print(A.size)\n",
    "print(b.size)\n",
    "print(c.size)"
   ]
  },
  {
   "cell_type": "code",
   "execution_count": 36,
   "metadata": {},
   "outputs": [
    {
     "ename": "ValueError",
     "evalue": "Rank(A) < p or Rank([G; A]) < n",
     "output_type": "error",
     "traceback": [
      "\u001b[0;31m---------------------------------------------------------------------------\u001b[0m",
      "\u001b[0;31mValueError\u001b[0m                                Traceback (most recent call last)",
      "\u001b[0;32m<ipython-input-36-2fb255c597fe>\u001b[0m in \u001b[0;36m<module>\u001b[0;34m\u001b[0m\n\u001b[0;32m----> 1\u001b[0;31m \u001b[0msol\u001b[0m\u001b[0;34m=\u001b[0m\u001b[0msolvers\u001b[0m\u001b[0;34m.\u001b[0m\u001b[0mlp\u001b[0m\u001b[0;34m(\u001b[0m\u001b[0mc\u001b[0m\u001b[0;34m,\u001b[0m\u001b[0mA\u001b[0m\u001b[0;34m,\u001b[0m\u001b[0mb\u001b[0m\u001b[0;34m)\u001b[0m\u001b[0;34m\u001b[0m\u001b[0;34m\u001b[0m\u001b[0m\n\u001b[0m",
      "\u001b[0;32m/usr/local/lib/python3.7/site-packages/cvxopt/coneprog.py\u001b[0m in \u001b[0;36mlp\u001b[0;34m(c, G, h, A, b, kktsolver, solver, primalstart, dualstart, **kwargs)\u001b[0m\n\u001b[1;32m   3008\u001b[0m \u001b[0;34m\u001b[0m\u001b[0m\n\u001b[1;32m   3009\u001b[0m     return conelp(c, G, h, {'l': m, 'q': [], 's': []}, A,  b, primalstart,\n\u001b[0;32m-> 3010\u001b[0;31m         dualstart, kktsolver = kktsolver, options = options)\n\u001b[0m\u001b[1;32m   3011\u001b[0m \u001b[0;34m\u001b[0m\u001b[0m\n\u001b[1;32m   3012\u001b[0m \u001b[0;34m\u001b[0m\u001b[0m\n",
      "\u001b[0;32m/usr/local/lib/python3.7/site-packages/cvxopt/coneprog.py\u001b[0m in \u001b[0;36mconelp\u001b[0;34m(c, G, h, dims, A, b, primalstart, dualstart, kktsolver, xnewcopy, xdot, xaxpy, xscal, ynewcopy, ydot, yaxpy, yscal, **kwargs)\u001b[0m\n\u001b[1;32m    571\u001b[0m     \u001b[0;32mif\u001b[0m \u001b[0mkktsolver\u001b[0m \u001b[0;32min\u001b[0m \u001b[0mdefaultsolvers\u001b[0m\u001b[0;34m:\u001b[0m\u001b[0;34m\u001b[0m\u001b[0;34m\u001b[0m\u001b[0m\n\u001b[1;32m    572\u001b[0m         \u001b[0;32mif\u001b[0m \u001b[0mKKTREG\u001b[0m \u001b[0;32mis\u001b[0m \u001b[0;32mNone\u001b[0m \u001b[0;32mand\u001b[0m \u001b[0;34m(\u001b[0m\u001b[0mb\u001b[0m\u001b[0;34m.\u001b[0m\u001b[0msize\u001b[0m\u001b[0;34m[\u001b[0m\u001b[0;36m0\u001b[0m\u001b[0;34m]\u001b[0m \u001b[0;34m>\u001b[0m \u001b[0mc\u001b[0m\u001b[0;34m.\u001b[0m\u001b[0msize\u001b[0m\u001b[0;34m[\u001b[0m\u001b[0;36m0\u001b[0m\u001b[0;34m]\u001b[0m \u001b[0;32mor\u001b[0m \u001b[0mb\u001b[0m\u001b[0;34m.\u001b[0m\u001b[0msize\u001b[0m\u001b[0;34m[\u001b[0m\u001b[0;36m0\u001b[0m\u001b[0;34m]\u001b[0m \u001b[0;34m+\u001b[0m \u001b[0mcdim_pckd\u001b[0m \u001b[0;34m<\u001b[0m \u001b[0mc\u001b[0m\u001b[0;34m.\u001b[0m\u001b[0msize\u001b[0m\u001b[0;34m[\u001b[0m\u001b[0;36m0\u001b[0m\u001b[0;34m]\u001b[0m\u001b[0;34m)\u001b[0m\u001b[0;34m:\u001b[0m\u001b[0;34m\u001b[0m\u001b[0;34m\u001b[0m\u001b[0m\n\u001b[0;32m--> 573\u001b[0;31m            \u001b[0;32mraise\u001b[0m \u001b[0mValueError\u001b[0m\u001b[0;34m(\u001b[0m\u001b[0;34m\"Rank(A) < p or Rank([G; A]) < n\"\u001b[0m\u001b[0;34m)\u001b[0m\u001b[0;34m\u001b[0m\u001b[0;34m\u001b[0m\u001b[0m\n\u001b[0m\u001b[1;32m    574\u001b[0m         \u001b[0;32mif\u001b[0m \u001b[0mkktsolver\u001b[0m \u001b[0;34m==\u001b[0m \u001b[0;34m'ldl'\u001b[0m\u001b[0;34m:\u001b[0m\u001b[0;34m\u001b[0m\u001b[0;34m\u001b[0m\u001b[0m\n\u001b[1;32m    575\u001b[0m             \u001b[0mfactor\u001b[0m \u001b[0;34m=\u001b[0m \u001b[0mmisc\u001b[0m\u001b[0;34m.\u001b[0m\u001b[0mkkt_ldl\u001b[0m\u001b[0;34m(\u001b[0m\u001b[0mG\u001b[0m\u001b[0;34m,\u001b[0m \u001b[0mdims\u001b[0m\u001b[0;34m,\u001b[0m \u001b[0mA\u001b[0m\u001b[0;34m,\u001b[0m \u001b[0mkktreg\u001b[0m \u001b[0;34m=\u001b[0m \u001b[0mKKTREG\u001b[0m\u001b[0;34m)\u001b[0m\u001b[0;34m\u001b[0m\u001b[0;34m\u001b[0m\u001b[0m\n",
      "\u001b[0;31mValueError\u001b[0m: Rank(A) < p or Rank([G; A]) < n"
     ]
    }
   ],
   "source": [
    "sol=solvers.lp(c,A,b)"
   ]
  },
  {
   "cell_type": "code",
   "execution_count": null,
   "metadata": {},
   "outputs": [],
   "source": []
  },
  {
   "cell_type": "code",
   "execution_count": null,
   "metadata": {},
   "outputs": [],
   "source": []
  },
  {
   "cell_type": "code",
   "execution_count": null,
   "metadata": {},
   "outputs": [],
   "source": []
  },
  {
   "cell_type": "code",
   "execution_count": null,
   "metadata": {},
   "outputs": [],
   "source": []
  },
  {
   "cell_type": "code",
   "execution_count": null,
   "metadata": {},
   "outputs": [],
   "source": []
  },
  {
   "cell_type": "code",
   "execution_count": null,
   "metadata": {},
   "outputs": [],
   "source": []
  }
 ],
 "metadata": {
  "kernelspec": {
   "display_name": "Python 3",
   "language": "python",
   "name": "python3"
  },
  "language_info": {
   "codemirror_mode": {
    "name": "ipython",
    "version": 3
   },
   "file_extension": ".py",
   "mimetype": "text/x-python",
   "name": "python",
   "nbconvert_exporter": "python",
   "pygments_lexer": "ipython3",
   "version": "3.6.8"
  }
 },
 "nbformat": 4,
 "nbformat_minor": 2
}
